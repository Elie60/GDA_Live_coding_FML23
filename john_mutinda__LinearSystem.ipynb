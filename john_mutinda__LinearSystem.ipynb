{
  "nbformat": 4,
  "nbformat_minor": 0,
  "metadata": {
    "colab": {
      "private_outputs": true,
      "provenance": [],
      "include_colab_link": true
    },
    "kernelspec": {
      "name": "python3",
      "display_name": "Python 3"
    },
    "language_info": {
      "name": "python"
    }
  },
  "cells": [
    {
      "cell_type": "markdown",
      "metadata": {
        "id": "view-in-github",
        "colab_type": "text"
      },
      "source": [
        "<a href=\"https://colab.research.google.com/github/kamwele/GDA_Live_coding_FML23/blob/main/john_mutinda__LinearSystem.ipynb\" target=\"_parent\"><img src=\"https://colab.research.google.com/assets/colab-badge.svg\" alt=\"Open In Colab\"/></a>"
      ]
    },
    {
      "cell_type": "markdown",
      "source": [
        "---\n",
        "___\n",
        "<p align= 'center'> <strong> PRACTICAL ASSIGNMENT ON LINEAR ALGEBRA</strong></p>\n",
        "\n",
        "---\n",
        "___\n",
        "<b> Instructions </b> <br>\n",
        "    1. The work you hand in must be your own. You are permitted to collaborate with one another students only to the degree of\n",
        "giving ideas on how to solve a problem. Think through and write up your own solutions; copying from others is not\n",
        "permitted. In particular, the code you hand in must be your own; <br>\n",
        "    2. Do not import additional libraries, only numpy is enough for this assignment."
      ],
      "metadata": {
        "id": "CUwVRjPlWGVJ"
      }
    },
    {
      "cell_type": "markdown",
      "source": [
        "## Forward and Backward substitution and Gaussian Elimination"
      ],
      "metadata": {
        "id": "sDpC-myYerhD"
      }
    },
    {
      "cell_type": "code",
      "source": [
        "import numpy as np\n",
        "def backsubs(U, b):\n",
        "\n",
        "  \"\"\"\n",
        "  x = backsubs(U, b)\n",
        "  Apply back substitution for the square upper triangular system Ux=b. \n",
        "\n",
        "  Parameters\n",
        "  -------\n",
        "    U: nxn square upper triangular array\n",
        "    b: n array\n",
        "    \n",
        "\n",
        "  Returns\n",
        "  -------\n",
        "    x: nx1 array\n",
        "  \"\"\"\n",
        "  ##### WRITE YOUR CODE HERE #####\n",
        "  n=len(b)\n",
        "  x=np.zeros(n)\n",
        "  for i in range(n,-1,-1):\n",
        "    if U[n-1][n-1]==0:\n",
        "      print(\"The solution does not exist\")\n",
        "    else:\n",
        "      x[n-1]=(b[n-1]/U[n-1][n-1])\n",
        "      for i in range(n-2,-1,-1):\n",
        "        if U[i][i]==0:\n",
        "          print(\"The solution does not exist\")\n",
        "        else:\n",
        "          su=0\n",
        "          for j in range(i+1,n):\n",
        "            su+=U[i][j]*x[j]\n",
        "            x[i]=(b[i]-su)/U[i][i]\n",
        "  return x\n",
        "\n",
        "def forwardsubs(L, b):\n",
        "\n",
        "\n",
        "  \"\"\"\n",
        "  \tx = forsubs(L, b)\n",
        "    Apply forward substitution for the square lower triangular system Lx=b. \n",
        "\n",
        "    Parameters\n",
        "    -------\n",
        "      L: nxn square lower triangular array\n",
        "      b: n array\n",
        "      \n",
        "    Returns\n",
        "    -------\n",
        "      x: n array\n",
        "\n",
        "  \"\"\"\n",
        "  ##### WRITE YOUR CODE HERE #####\n",
        "  n=len(b)\n",
        "  x=np.zeros(n)\n",
        "  for i in range(1,n):\n",
        "    if A[0][0]==0:\n",
        "      print(\"The solution does not exist\")\n",
        "    else:\n",
        "      x[0]=(b[0]/A[0][0])\n",
        "      for i in range(1,len(b)):\n",
        "         x[i] = b[i]\n",
        "         if A[i][i]==0:\n",
        "           print(\"The solution does dont exist\")\n",
        "         else:\n",
        "            for j in range(0,i):\n",
        "              x[i] -= A[i][j]*x[j]\n",
        "            x[i]/= A[i][i]\n",
        "  return x\n",
        "  \n",
        "\n",
        "  \n",
        "def fowardElimination(A,b):\n",
        "  # Naive Gaussian Elimination (with no pivoting) also called Forward Elimination\n",
        "  \"\"\"\n",
        "    U,b_new = fowardElimination(A, b)\n",
        "    Apply fowardElimination for the square system Ax=b. \n",
        "\n",
        "    Parameters\n",
        "    -------\n",
        "      A: nxn square matrix \n",
        "      b: n array\n",
        "\n",
        "    Returns\n",
        "    -------\n",
        "      U: nxn upper triangular matrix\n",
        "      b_new: n array\n",
        "  \"\"\"\n",
        "  ##### WRITE YOUR CODE HERE #####\n",
        "  B_new = result = np.column_stack((A, b))\n",
        "  n=len(B_new)\n",
        "  rows = B_new.shape[0]\n",
        "  cols = B_new.shape[1]\n",
        "  x = np.zeros(cols-1)\n",
        "  for i in range(cols - 1):\n",
        "    for j in range(i+1,rows):\n",
        "      B_new[j,:]= -(B_new[j,i]/B_new[i,i])*B_new[i,:]+B_new[j,:]\n",
        "      \n",
        "  \n",
        "  U = B_new[:,0:n]\n",
        "  b_new= B_new[0:,n]\n",
        "  return  (U, b_new)\n",
        "  \n",
        "\n",
        "def ge(A,b):\n",
        "  \n",
        "  \"\"\"\n",
        "    x = ge(A, b)\n",
        "\n",
        "    Parameters\n",
        "    -------\n",
        "      A: nxn square matrix \n",
        "      b: n array\n",
        "\n",
        "    Returns\n",
        "    -------\n",
        "      x: n-array\n",
        "\n",
        "  \"\"\"\n",
        "  ##### WRITE YOUR CODE HERE #####\n",
        "  # Call fowardElimination\n",
        "  U , b_new = fowardElimination(A,b)\n",
        "  # Call backsubs\n",
        "  return backsubs(U, b_new)\n",
        "  pass\n",
        "A= np.array([[1,1,1, 4],[2,3,5, 2],[4,6,8, 3], [3,9,2, 1]],dtype= np.float64)\n",
        "b= np.array([2,3,1, 4],dtype= np.float64)\n",
        "\n",
        "ge(A,b)"
      ],
      "metadata": {
        "id": "BKfyOkjdeXnl"
      },
      "execution_count": null,
      "outputs": []
    },
    {
      "cell_type": "code",
      "source": [],
      "metadata": {
        "id": "ZPE9Ua3Dx43N"
      },
      "execution_count": null,
      "outputs": []
    },
    {
      "cell_type": "markdown",
      "source": [
        "## LU Decomposition/Factorization"
      ],
      "metadata": {
        "id": "xrbs9uRuel0v"
      }
    },
    {
      "cell_type": "code",
      "source": [
        "def ludecom(A):\n",
        "\n",
        "\n",
        "    \n",
        "  \"\"\"\n",
        "    L,U = ludecom(A)\n",
        "    Apply LU decomposition to mxm square matrix. \n",
        "\n",
        "    Parameters\n",
        "    -------\n",
        "    A: mxm square matrix \n",
        "\n",
        "    Returns\n",
        "    -------\n",
        "    L: mxm square matrix \n",
        "    U: mxm square matrix \n",
        "  \"\"\"\n",
        "\n",
        "  ##### WRITE YOUR CODE HERE ####\n",
        "\n",
        "  n = len(A)\n",
        "  U = A.copy()\n",
        "  L = np.eye(n)\n",
        "  for i in range(n):\n",
        "    scaler = U[i+1:, i] / U[i, i]\n",
        "    L[i+1:, i] = scaler\n",
        "    U[i+1:] -= scaler[:, np.newaxis] * U[i]\n",
        "  return L, U\n",
        "\n",
        "\n",
        "\n",
        "def solve(A, b):\n",
        "    \n",
        "    \"\"\"\n",
        "     x = solve(A, b)\n",
        "    Apply LU decmposition, forward and backward substitution for the square system Ax=b. \n",
        "\n",
        "    Parameters\n",
        "    -------\n",
        "    A: mxm square matrix \n",
        "    b: m vector\n",
        "        \n",
        "    Returns\n",
        "    -------\n",
        "    x: n vector\n",
        "    \n",
        "    \"\"\"\n",
        "    ##### WRITE YOUR CODE HERE #####\n",
        "    L,U = ludecom(A)\n",
        "    y=forwardsubs(L, b)\n",
        "    return backsubs(U,y)\n",
        "\n",
        "A= np.array([[1,1,1, 4],[2,3,5, 2],[4,6,8, 3], [3,9,2, 1]],dtype= np.float64)\n",
        "b= np.array([2,3,1, 4],dtype= np.float64)\n",
        "\n",
        "x= solve(A, b)\n",
        "x\n",
        "print(A@x-b)\n",
        "\n",
        "\n"
      ],
      "metadata": {
        "id": "8BHIAJKEejoc"
      },
      "execution_count": null,
      "outputs": []
    },
    {
      "cell_type": "markdown",
      "source": [
        "___END___"
      ],
      "metadata": {
        "id": "MCnQwgWOWAJf"
      }
    },
    {
      "cell_type": "code",
      "source": [],
      "metadata": {
        "id": "pAlC_o4gWCPg"
      },
      "execution_count": null,
      "outputs": []
    }
  ]
}