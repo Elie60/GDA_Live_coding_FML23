{
  "nbformat": 4,
  "nbformat_minor": 0,
  "metadata": {
    "colab": {
      "provenance": [],
      "include_colab_link": true
    },
    "kernelspec": {
      "name": "python3",
      "display_name": "Python 3"
    },
    "language_info": {
      "name": "python"
    }
  },
  "cells": [
    {
      "cell_type": "markdown",
      "metadata": {
        "id": "view-in-github",
        "colab_type": "text"
      },
      "source": [
        "<a href=\"https://colab.research.google.com/github/kamwele/GDA_Live_coding_FML23/blob/main/John_mutinda__Numpy_Basics.ipynb\" target=\"_parent\"><img src=\"https://colab.research.google.com/assets/colab-badge.svg\" alt=\"Open In Colab\"/></a>"
      ]
    },
    {
      "cell_type": "markdown",
      "source": [
        "## what is Numpy\n",
        "\n",
        "Numpy (Numerical Python) is an open source Python library that is used for arrays manipulations. It can be used to store data in one, two, three, ..., n dimensional arrays\n",
        "\n",
        "## Difference between numpy and python list:\n",
        "\n",
        "* numpy arrays store only data with same type however list can store different types of data\n",
        "\n",
        "* lists consumes more memory for storage than numpy which lead it to be slower.\n",
        "* Numpy uses contiguous memory and lists does not\n",
        "\n",
        "\n",
        "##Intall Numpy"
      ],
      "metadata": {
        "id": "w89SjkQLjKHJ"
      }
    },
    {
      "cell_type": "code",
      "execution_count": null,
      "metadata": {
        "id": "KdSGq6M7jFDT",
        "colab": {
          "base_uri": "https://localhost:8080/"
        },
        "outputId": "fbdfef60-ee46-4a20-8989-99f4d8537644"
      },
      "outputs": [
        {
          "output_type": "stream",
          "name": "stdout",
          "text": [
            "Looking in indexes: https://pypi.org/simple, https://us-python.pkg.dev/colab-wheels/public/simple/\n",
            "Requirement already satisfied: numpy in /usr/local/lib/python3.8/dist-packages (1.21.6)\n"
          ]
        }
      ],
      "source": [
        "!pip install numpy"
      ]
    },
    {
      "cell_type": "markdown",
      "source": [
        "## Import Numpy"
      ],
      "metadata": {
        "id": "cNaLeRitoVFL"
      }
    },
    {
      "cell_type": "code",
      "source": [
        "import numpy as np"
      ],
      "metadata": {
        "id": "GhwMihNgoTxL"
      },
      "execution_count": null,
      "outputs": []
    },
    {
      "cell_type": "markdown",
      "source": [
        "## create arrays with numpy"
      ],
      "metadata": {
        "id": "y-TwdNdvoZqA"
      }
    },
    {
      "cell_type": "code",
      "source": [
        "#create 1D numpy array\n"
      ],
      "metadata": {
        "id": "W8WFLGnioYod"
      },
      "execution_count": null,
      "outputs": []
    },
    {
      "cell_type": "code",
      "source": [
        "\n",
        "#create 2D numpy arrays"
      ],
      "metadata": {
        "id": "JEttxCWKoiET"
      },
      "execution_count": null,
      "outputs": []
    },
    {
      "cell_type": "code",
      "source": [
        "# create 3D array"
      ],
      "metadata": {
        "id": "u6s1DFx7pZdf"
      },
      "execution_count": null,
      "outputs": []
    },
    {
      "cell_type": "markdown",
      "source": [
        "## Dimension, shapes and types"
      ],
      "metadata": {
        "id": "67xVtf31pT6k"
      }
    },
    {
      "cell_type": "code",
      "source": [
        "#Dimension"
      ],
      "metadata": {
        "id": "sKH0w-xIo7sH"
      },
      "execution_count": null,
      "outputs": []
    },
    {
      "cell_type": "code",
      "source": [
        "#shape"
      ],
      "metadata": {
        "id": "1bJCPssjpeCq"
      },
      "execution_count": null,
      "outputs": []
    },
    {
      "cell_type": "code",
      "source": [
        "#types"
      ],
      "metadata": {
        "id": "uTJfag0Aphc4"
      },
      "execution_count": null,
      "outputs": []
    },
    {
      "cell_type": "markdown",
      "source": [
        "## Accessing elements in numpy array (indexing and slicing)\n",
        "\n",
        "---\n",
        "\n"
      ],
      "metadata": {
        "id": "YpK7fwwL8185"
      }
    },
    {
      "cell_type": "code",
      "source": [
        "A = np.array([[1,2,3],[4,5,6]])\n",
        "A.shape\n",
        "b=np.array([[1,2],[2,4]])\n",
        "b\n",
        "b.shape"
      ],
      "metadata": {
        "colab": {
          "base_uri": "https://localhost:8080/"
        },
        "id": "du1KrTupqFON",
        "outputId": "90055e6a-0fc7-4e6b-f953-4b63e6e0312f"
      },
      "execution_count": null,
      "outputs": [
        {
          "output_type": "execute_result",
          "data": {
            "text/plain": [
              "(2, 2)"
            ]
          },
          "metadata": {},
          "execution_count": 8
        }
      ]
    },
    {
      "cell_type": "code",
      "source": [
        "len(b)"
      ],
      "metadata": {
        "colab": {
          "base_uri": "https://localhost:8080/"
        },
        "id": "4xKulFTMgcec",
        "outputId": "6cf543a4-2346-4ccf-8be8-b156a7125cb6"
      },
      "execution_count": null,
      "outputs": [
        {
          "output_type": "execute_result",
          "data": {
            "text/plain": [
              "2"
            ]
          },
          "metadata": {},
          "execution_count": 9
        }
      ]
    },
    {
      "cell_type": "code",
      "source": [
        "type(b)"
      ],
      "metadata": {
        "colab": {
          "base_uri": "https://localhost:8080/"
        },
        "id": "nyozehpcgciD",
        "outputId": "ea2f7fe8-b161-4d12-a60a-5d2b9789484c"
      },
      "execution_count": null,
      "outputs": [
        {
          "output_type": "execute_result",
          "data": {
            "text/plain": [
              "numpy.ndarray"
            ]
          },
          "metadata": {},
          "execution_count": 10
        }
      ]
    },
    {
      "cell_type": "code",
      "source": [
        "b.ndim"
      ],
      "metadata": {
        "colab": {
          "base_uri": "https://localhost:8080/"
        },
        "id": "uQD7IiYWgclQ",
        "outputId": "a543f648-5b87-4b4a-a926-f35d7f7c5179"
      },
      "execution_count": null,
      "outputs": [
        {
          "output_type": "execute_result",
          "data": {
            "text/plain": [
              "2"
            ]
          },
          "metadata": {},
          "execution_count": 11
        }
      ]
    },
    {
      "cell_type": "code",
      "source": [
        "#SIZE\n",
        "b.size"
      ],
      "metadata": {
        "colab": {
          "base_uri": "https://localhost:8080/"
        },
        "id": "RD2xE7lRgcoK",
        "outputId": "0c091a00-9c5e-49a9-f3dd-93a118e696cc"
      },
      "execution_count": null,
      "outputs": [
        {
          "output_type": "execute_result",
          "data": {
            "text/plain": [
              "4"
            ]
          },
          "metadata": {},
          "execution_count": 12
        }
      ]
    },
    {
      "cell_type": "code",
      "source": [
        "#indexing"
      ],
      "metadata": {
        "id": "ajkUf7vo9K_n"
      },
      "execution_count": null,
      "outputs": []
    },
    {
      "cell_type": "code",
      "source": [
        "C=np.array([[1,2,3],[4,5,6],[7,8,9]])\n",
        "C\n",
        "C.ndim"
      ],
      "metadata": {
        "colab": {
          "base_uri": "https://localhost:8080/"
        },
        "id": "CKsqgmkMhiXO",
        "outputId": "370c86f8-b4e9-46b8-eaf8-0ea4cec4e7ca"
      },
      "execution_count": null,
      "outputs": [
        {
          "output_type": "execute_result",
          "data": {
            "text/plain": [
              "2"
            ]
          },
          "metadata": {},
          "execution_count": 14
        }
      ]
    },
    {
      "cell_type": "code",
      "source": [
        "type(C.ndim)"
      ],
      "metadata": {
        "colab": {
          "base_uri": "https://localhost:8080/"
        },
        "id": "0NY2YYglhiZ6",
        "outputId": "3b9b8479-dba3-402b-b38f-47511a702d2d"
      },
      "execution_count": null,
      "outputs": [
        {
          "output_type": "execute_result",
          "data": {
            "text/plain": [
              "int"
            ]
          },
          "metadata": {},
          "execution_count": 15
        }
      ]
    },
    {
      "cell_type": "code",
      "source": [
        "C.dtype"
      ],
      "metadata": {
        "colab": {
          "base_uri": "https://localhost:8080/"
        },
        "id": "7vWfm3Knhicz",
        "outputId": "3c7d1f4f-5c82-4cab-db5e-c7a51ede9dbe"
      },
      "execution_count": null,
      "outputs": [
        {
          "output_type": "execute_result",
          "data": {
            "text/plain": [
              "dtype('int64')"
            ]
          },
          "metadata": {},
          "execution_count": 16
        }
      ]
    },
    {
      "cell_type": "code",
      "source": [
        "#slicing"
      ],
      "metadata": {
        "id": "ReaH5hdV9oSg"
      },
      "execution_count": null,
      "outputs": []
    },
    {
      "cell_type": "code",
      "source": [
        "X=np.array([[1,2,3],[4,5,6]])\n",
        "X\n",
        "X[0:2,1:3]"
      ],
      "metadata": {
        "colab": {
          "base_uri": "https://localhost:8080/"
        },
        "id": "xxESiRxpjCgK",
        "outputId": "bf81f49d-4c71-4086-e875-936a6072070a"
      },
      "execution_count": null,
      "outputs": [
        {
          "output_type": "execute_result",
          "data": {
            "text/plain": [
              "array([[2, 3],\n",
              "       [5, 6]])"
            ]
          },
          "metadata": {},
          "execution_count": 18
        }
      ]
    },
    {
      "cell_type": "markdown",
      "source": [
        "##Exercise:\n",
        "\n",
        "Write a code using slicing to reverse a numpy 1D array\n"
      ],
      "metadata": {
        "id": "7Oc0IZls7lBB"
      }
    },
    {
      "cell_type": "code",
      "source": [
        "X[:,1:]"
      ],
      "metadata": {
        "colab": {
          "base_uri": "https://localhost:8080/"
        },
        "id": "qzCvBF5ll4ic",
        "outputId": "637455ef-a83d-42ac-8f54-74a231da47e3"
      },
      "execution_count": null,
      "outputs": [
        {
          "output_type": "execute_result",
          "data": {
            "text/plain": [
              "array([[2, 3],\n",
              "       [5, 6]])"
            ]
          },
          "metadata": {},
          "execution_count": 19
        }
      ]
    },
    {
      "cell_type": "code",
      "source": [
        "x = np.array([1,2,3])\n",
        "x[::-1]\n",
        "## code here"
      ],
      "metadata": {
        "id": "blhAj1fa7ze7",
        "colab": {
          "base_uri": "https://localhost:8080/"
        },
        "outputId": "370230d2-645e-44db-cd99-07e5e5ae79ce"
      },
      "execution_count": null,
      "outputs": [
        {
          "output_type": "execute_result",
          "data": {
            "text/plain": [
              "array([3, 2, 1])"
            ]
          },
          "metadata": {},
          "execution_count": 20
        }
      ]
    },
    {
      "cell_type": "code",
      "source": [
        "np.flip(x,0)"
      ],
      "metadata": {
        "colab": {
          "base_uri": "https://localhost:8080/"
        },
        "id": "Q3-b4IpxqfEX",
        "outputId": "c8233533-ea7e-4b04-f839-10f77cccd345"
      },
      "execution_count": null,
      "outputs": [
        {
          "output_type": "execute_result",
          "data": {
            "text/plain": [
              "array([3, 2, 1])"
            ]
          },
          "metadata": {},
          "execution_count": 21
        }
      ]
    },
    {
      "cell_type": "markdown",
      "source": [
        "# Boolean or “mask” index arrays\n",
        "#### Boolean arrays used as indices are treated in a different manner entirely than index arrays. Boolean arrays must be of the same shape as the initial dimensions of the array being indexed. In the most straightforward case, the boolean array has the same shape:"
      ],
      "metadata": {
        "id": "2w6xoQ9vlFxU"
      }
    },
    {
      "cell_type": "code",
      "source": [
        "y = np.array([[ 0,  1,  2,  3],\n",
        "       [ 4,  5,  6,  7],\n",
        "       [ 8,  9, 10, 11],\n",
        "       [12, 13, 14, 15],\n",
        "       [16, 17, 18, 19]])\n",
        "y"
      ],
      "metadata": {
        "colab": {
          "base_uri": "https://localhost:8080/"
        },
        "id": "aIWWOfRWlDo8",
        "outputId": "831c1dbe-2fd1-40e4-d8d2-bd2f54b01143"
      },
      "execution_count": null,
      "outputs": [
        {
          "output_type": "execute_result",
          "data": {
            "text/plain": [
              "array([[ 0,  1,  2,  3],\n",
              "       [ 4,  5,  6,  7],\n",
              "       [ 8,  9, 10, 11],\n",
              "       [12, 13, 14, 15],\n",
              "       [16, 17, 18, 19]])"
            ]
          },
          "metadata": {},
          "execution_count": 22
        }
      ]
    },
    {
      "cell_type": "code",
      "source": [
        "y<=80"
      ],
      "metadata": {
        "colab": {
          "base_uri": "https://localhost:8080/"
        },
        "id": "jTRIISpEsVLH",
        "outputId": "78c2520c-f958-4613-d446-e66e0c2f6ae9"
      },
      "execution_count": null,
      "outputs": [
        {
          "output_type": "execute_result",
          "data": {
            "text/plain": [
              "array([[ True,  True,  True,  True],\n",
              "       [ True,  True,  True,  True],\n",
              "       [ True,  True,  True,  True],\n",
              "       [ True,  True,  True,  True],\n",
              "       [ True,  True,  True,  True]])"
            ]
          },
          "metadata": {},
          "execution_count": 23
        }
      ]
    },
    {
      "cell_type": "code",
      "source": [
        "n=0\n",
        "n>-9"
      ],
      "metadata": {
        "colab": {
          "base_uri": "https://localhost:8080/"
        },
        "id": "nhnkPkZVsVQF",
        "outputId": "ac4166f7-141a-43fd-d0f0-41a17f6ba7ce"
      },
      "execution_count": null,
      "outputs": [
        {
          "output_type": "execute_result",
          "data": {
            "text/plain": [
              "True"
            ]
          },
          "metadata": {},
          "execution_count": 24
        }
      ]
    },
    {
      "cell_type": "code",
      "source": [
        "np.where((y>10) & (y<18),-1,y)"
      ],
      "metadata": {
        "colab": {
          "base_uri": "https://localhost:8080/"
        },
        "id": "HBE0noppsVSr",
        "outputId": "299fb79a-8ae5-43ab-beba-d1bc4b4c80ed"
      },
      "execution_count": null,
      "outputs": [
        {
          "output_type": "execute_result",
          "data": {
            "text/plain": [
              "array([[ 0,  1,  2,  3],\n",
              "       [ 4,  5,  6,  7],\n",
              "       [ 8,  9, 10, -1],\n",
              "       [-1, -1, -1, -1],\n",
              "       [-1, -1, 18, 19]])"
            ]
          },
          "metadata": {},
          "execution_count": 25
        }
      ]
    },
    {
      "cell_type": "code",
      "source": [
        "y>15"
      ],
      "metadata": {
        "colab": {
          "base_uri": "https://localhost:8080/"
        },
        "id": "XRobhN8gsKyL",
        "outputId": "c93ea872-bd46-41bf-f3c4-ccca01460ed2"
      },
      "execution_count": null,
      "outputs": [
        {
          "output_type": "execute_result",
          "data": {
            "text/plain": [
              "array([[False, False, False, False],\n",
              "       [False, False, False, False],\n",
              "       [False, False, False, False],\n",
              "       [False, False, False, False],\n",
              "       [ True,  True,  True,  True]])"
            ]
          },
          "metadata": {},
          "execution_count": 26
        }
      ]
    },
    {
      "cell_type": "code",
      "source": [],
      "metadata": {
        "id": "mhel0B5jsK1S"
      },
      "execution_count": null,
      "outputs": []
    },
    {
      "cell_type": "code",
      "source": [],
      "metadata": {
        "id": "zxwYIPgWsLCE"
      },
      "execution_count": null,
      "outputs": []
    },
    {
      "cell_type": "markdown",
      "source": [
        "## np.where()"
      ],
      "metadata": {
        "id": "i9iZY2jol4j3"
      }
    },
    {
      "cell_type": "code",
      "source": [
        "#replace all values in y that are > 15 by -1 using np.where\n"
      ],
      "metadata": {
        "id": "Vq4pHYK_l8A2"
      },
      "execution_count": null,
      "outputs": []
    },
    {
      "cell_type": "markdown",
      "source": [
        "## Exercise:\n",
        "\n",
        "Replace all even numbers in the given array with -1 using np.where"
      ],
      "metadata": {
        "id": "HzFyULoiNfsD"
      }
    },
    {
      "cell_type": "code",
      "source": [
        "#write answer here\n",
        "x = np.array([0, 1, 2, 3, 4, 5, 6, 7, 8, 9])\n",
        "np.where(x%2==0,-1,x)"
      ],
      "metadata": {
        "id": "4p39ijOWNQdv",
        "colab": {
          "base_uri": "https://localhost:8080/"
        },
        "outputId": "83cc3530-7ef6-4c3a-f055-80f97e9df4e7"
      },
      "execution_count": null,
      "outputs": [
        {
          "output_type": "execute_result",
          "data": {
            "text/plain": [
              "array([-1,  1, -1,  3, -1,  5, -1,  7, -1,  9])"
            ]
          },
          "metadata": {},
          "execution_count": 29
        }
      ]
    },
    {
      "cell_type": "markdown",
      "source": [
        "## Initializing arrays"
      ],
      "metadata": {
        "id": "mcp2F4C9cFPF"
      }
    },
    {
      "cell_type": "code",
      "source": [
        "#create matrix with only ones\n",
        "np.zeros((3,4))\n"
      ],
      "metadata": {
        "id": "v6UGRk9I9xeJ",
        "colab": {
          "base_uri": "https://localhost:8080/"
        },
        "outputId": "f84f2085-aa94-444f-8648-f307c0dcc58f"
      },
      "execution_count": null,
      "outputs": [
        {
          "output_type": "execute_result",
          "data": {
            "text/plain": [
              "array([[0., 0., 0., 0.],\n",
              "       [0., 0., 0., 0.],\n",
              "       [0., 0., 0., 0.]])"
            ]
          },
          "metadata": {},
          "execution_count": 30
        }
      ]
    },
    {
      "cell_type": "markdown",
      "source": [
        "## Ex:\n",
        "\n",
        "Write a code to create a numpy zero vector of size 10 and update element at index 5 and 6 with values to 10 and 11\n",
        "\n"
      ],
      "metadata": {
        "id": "ea99x-O-5spw"
      }
    },
    {
      "cell_type": "code",
      "source": [
        "## code here\n",
        "c=np.zeros((10,1))\n",
        "c[5]=10\n",
        "c[6]=11\n",
        "c"
      ],
      "metadata": {
        "id": "jFx3vBXH5v-i",
        "colab": {
          "base_uri": "https://localhost:8080/"
        },
        "outputId": "0d65bef4-5d05-489a-9f2c-487011baf04a"
      },
      "execution_count": null,
      "outputs": [
        {
          "output_type": "execute_result",
          "data": {
            "text/plain": [
              "array([[ 0.],\n",
              "       [ 0.],\n",
              "       [ 0.],\n",
              "       [ 0.],\n",
              "       [ 0.],\n",
              "       [10.],\n",
              "       [11.],\n",
              "       [ 0.],\n",
              "       [ 0.],\n",
              "       [ 0.]])"
            ]
          },
          "metadata": {},
          "execution_count": 31
        }
      ]
    },
    {
      "cell_type": "markdown",
      "source": [
        "##Ex:\n",
        "\n",
        "Write a NumPy program to create a 2d array with 1 on the border and 0 inside"
      ],
      "metadata": {
        "id": "02Tbtp0m9H5b"
      }
    },
    {
      "cell_type": "code",
      "source": [
        "## code here\n",
        "J=np.ones((8,9))\n",
        "J[1:-1,1:-1]=0\n",
        "J\n"
      ],
      "metadata": {
        "id": "DQjQ0VLF9Ltp",
        "colab": {
          "base_uri": "https://localhost:8080/"
        },
        "outputId": "549301d9-873e-4610-f718-e963d7351990"
      },
      "execution_count": null,
      "outputs": [
        {
          "output_type": "execute_result",
          "data": {
            "text/plain": [
              "array([[1., 1., 1., 1., 1., 1., 1., 1., 1.],\n",
              "       [1., 0., 0., 0., 0., 0., 0., 0., 1.],\n",
              "       [1., 0., 0., 0., 0., 0., 0., 0., 1.],\n",
              "       [1., 0., 0., 0., 0., 0., 0., 0., 1.],\n",
              "       [1., 0., 0., 0., 0., 0., 0., 0., 1.],\n",
              "       [1., 0., 0., 0., 0., 0., 0., 0., 1.],\n",
              "       [1., 0., 0., 0., 0., 0., 0., 0., 1.],\n",
              "       [1., 1., 1., 1., 1., 1., 1., 1., 1.]])"
            ]
          },
          "metadata": {},
          "execution_count": 32
        }
      ]
    },
    {
      "cell_type": "code",
      "source": [
        "np.full((5,5),4)"
      ],
      "metadata": {
        "colab": {
          "base_uri": "https://localhost:8080/"
        },
        "id": "mCFGoNMEzFhR",
        "outputId": "24acc745-ac7d-4ef4-e865-009bc8ddb201"
      },
      "execution_count": null,
      "outputs": [
        {
          "output_type": "execute_result",
          "data": {
            "text/plain": [
              "array([[4, 4, 4, 4, 4],\n",
              "       [4, 4, 4, 4, 4],\n",
              "       [4, 4, 4, 4, 4],\n",
              "       [4, 4, 4, 4, 4],\n",
              "       [4, 4, 4, 4, 4]])"
            ]
          },
          "metadata": {},
          "execution_count": 33
        }
      ]
    },
    {
      "cell_type": "code",
      "source": [
        "np.random.randint(6)"
      ],
      "metadata": {
        "colab": {
          "base_uri": "https://localhost:8080/"
        },
        "id": "Z5wzCt_szFj3",
        "outputId": "4d54269e-b81c-49f3-9ae2-65a749582a04"
      },
      "execution_count": null,
      "outputs": [
        {
          "output_type": "execute_result",
          "data": {
            "text/plain": [
              "1"
            ]
          },
          "metadata": {},
          "execution_count": 34
        }
      ]
    },
    {
      "cell_type": "code",
      "source": [
        "np.random.rand(2,3)"
      ],
      "metadata": {
        "colab": {
          "base_uri": "https://localhost:8080/"
        },
        "id": "zfqefSMczFmN",
        "outputId": "1ab398d5-b963-4b28-ac59-522ac4b0b203"
      },
      "execution_count": null,
      "outputs": [
        {
          "output_type": "execute_result",
          "data": {
            "text/plain": [
              "array([[0.25491083, 0.29384754, 0.81449867],\n",
              "       [0.02617694, 0.34706368, 0.52084011]])"
            ]
          },
          "metadata": {},
          "execution_count": 102
        }
      ]
    },
    {
      "cell_type": "code",
      "source": [
        "np.identity(7)"
      ],
      "metadata": {
        "colab": {
          "base_uri": "https://localhost:8080/"
        },
        "id": "0f2jpw3bzt6o",
        "outputId": "c66984ce-270c-42d1-ca22-c228965122c3"
      },
      "execution_count": null,
      "outputs": [
        {
          "output_type": "execute_result",
          "data": {
            "text/plain": [
              "array([[1., 0., 0., 0., 0., 0., 0.],\n",
              "       [0., 1., 0., 0., 0., 0., 0.],\n",
              "       [0., 0., 1., 0., 0., 0., 0.],\n",
              "       [0., 0., 0., 1., 0., 0., 0.],\n",
              "       [0., 0., 0., 0., 1., 0., 0.],\n",
              "       [0., 0., 0., 0., 0., 1., 0.],\n",
              "       [0., 0., 0., 0., 0., 0., 1.]])"
            ]
          },
          "metadata": {},
          "execution_count": 104
        }
      ]
    },
    {
      "cell_type": "code",
      "source": [
        "np.arange(100)"
      ],
      "metadata": {
        "colab": {
          "base_uri": "https://localhost:8080/"
        },
        "id": "avpIVDMgzt-A",
        "outputId": "cea49d52-6d2d-4fb3-88fc-f6cb86d0ad72"
      },
      "execution_count": null,
      "outputs": [
        {
          "output_type": "execute_result",
          "data": {
            "text/plain": [
              "array([ 0,  1,  2,  3,  4,  5,  6,  7,  8,  9, 10, 11, 12, 13, 14, 15, 16,\n",
              "       17, 18, 19, 20, 21, 22, 23, 24, 25, 26, 27, 28, 29, 30, 31, 32, 33,\n",
              "       34, 35, 36, 37, 38, 39, 40, 41, 42, 43, 44, 45, 46, 47, 48, 49, 50,\n",
              "       51, 52, 53, 54, 55, 56, 57, 58, 59, 60, 61, 62, 63, 64, 65, 66, 67,\n",
              "       68, 69, 70, 71, 72, 73, 74, 75, 76, 77, 78, 79, 80, 81, 82, 83, 84,\n",
              "       85, 86, 87, 88, 89, 90, 91, 92, 93, 94, 95, 96, 97, 98, 99])"
            ]
          },
          "metadata": {},
          "execution_count": 106
        }
      ]
    },
    {
      "cell_type": "code",
      "source": [
        "np.arange(0,100,2)"
      ],
      "metadata": {
        "colab": {
          "base_uri": "https://localhost:8080/"
        },
        "id": "wENP8GyX0QY-",
        "outputId": "045474fb-aab4-4dd7-8a59-20a194e94aee"
      },
      "execution_count": null,
      "outputs": [
        {
          "output_type": "execute_result",
          "data": {
            "text/plain": [
              "array([ 0,  2,  4,  6,  8, 10, 12, 14, 16, 18, 20, 22, 24, 26, 28, 30, 32,\n",
              "       34, 36, 38, 40, 42, 44, 46, 48, 50, 52, 54, 56, 58, 60, 62, 64, 66,\n",
              "       68, 70, 72, 74, 76, 78, 80, 82, 84, 86, 88, 90, 92, 94, 96, 98])"
            ]
          },
          "metadata": {},
          "execution_count": 107
        }
      ]
    },
    {
      "cell_type": "code",
      "source": [
        "np.linspace(0,100,10)"
      ],
      "metadata": {
        "colab": {
          "base_uri": "https://localhost:8080/"
        },
        "id": "SJ4sSd2T0Qbi",
        "outputId": "d0bff759-1706-49a7-b691-11681baa6cca"
      },
      "execution_count": null,
      "outputs": [
        {
          "output_type": "execute_result",
          "data": {
            "text/plain": [
              "array([  0.        ,  11.11111111,  22.22222222,  33.33333333,\n",
              "        44.44444444,  55.55555556,  66.66666667,  77.77777778,\n",
              "        88.88888889, 100.        ])"
            ]
          },
          "metadata": {},
          "execution_count": 108
        }
      ]
    },
    {
      "cell_type": "code",
      "source": [
        "np.linspace(0,8)"
      ],
      "metadata": {
        "colab": {
          "base_uri": "https://localhost:8080/"
        },
        "id": "WJ2x_z100Qd5",
        "outputId": "c8de82cd-08a8-4fc7-ea78-75cacf427d01"
      },
      "execution_count": null,
      "outputs": [
        {
          "output_type": "execute_result",
          "data": {
            "text/plain": [
              "array([0.        , 0.16326531, 0.32653061, 0.48979592, 0.65306122,\n",
              "       0.81632653, 0.97959184, 1.14285714, 1.30612245, 1.46938776,\n",
              "       1.63265306, 1.79591837, 1.95918367, 2.12244898, 2.28571429,\n",
              "       2.44897959, 2.6122449 , 2.7755102 , 2.93877551, 3.10204082,\n",
              "       3.26530612, 3.42857143, 3.59183673, 3.75510204, 3.91836735,\n",
              "       4.08163265, 4.24489796, 4.40816327, 4.57142857, 4.73469388,\n",
              "       4.89795918, 5.06122449, 5.2244898 , 5.3877551 , 5.55102041,\n",
              "       5.71428571, 5.87755102, 6.04081633, 6.20408163, 6.36734694,\n",
              "       6.53061224, 6.69387755, 6.85714286, 7.02040816, 7.18367347,\n",
              "       7.34693878, 7.51020408, 7.67346939, 7.83673469, 8.        ])"
            ]
          },
          "metadata": {},
          "execution_count": 110
        }
      ]
    },
    {
      "cell_type": "code",
      "source": [
        "# create matrix with random values sampled from a normal distribution(np.random.randn)\n"
      ],
      "metadata": {
        "id": "fBE3fT_Zd2O7"
      },
      "execution_count": null,
      "outputs": []
    },
    {
      "cell_type": "code",
      "source": [
        "# create matrix with random int values from 0 to 10(np.random.randint)\n"
      ],
      "metadata": {
        "id": "RPmtzOt3eGx5"
      },
      "execution_count": null,
      "outputs": []
    },
    {
      "cell_type": "code",
      "source": [
        "## create identity matrix(np.identity)\n"
      ],
      "metadata": {
        "id": "aTW_VxJuej54"
      },
      "execution_count": null,
      "outputs": []
    },
    {
      "cell_type": "code",
      "source": [
        "## create matrix containing numbers from 0 to 10(np.arange)\n"
      ],
      "metadata": {
        "id": "ko_QZcD7i46n"
      },
      "execution_count": null,
      "outputs": []
    },
    {
      "cell_type": "code",
      "source": [
        "## create matrix containing even numbers from 0 to 10(np.arange)\n"
      ],
      "metadata": {
        "id": "WDZmAwVSi9Zd"
      },
      "execution_count": null,
      "outputs": []
    },
    {
      "cell_type": "markdown",
      "source": [
        "### *When arange is used with floating point arguments, it is generally not possible to predict the number of elements obtained, due to the finite floating point precision. For this reason, it is usually better to use the function linspace that receives as an argument the number of elements that we want, instead of the step:*"
      ],
      "metadata": {
        "id": "a8Ka7uwhjve9"
      }
    },
    {
      "cell_type": "code",
      "source": [
        "#create an array of 8 elements between 0 and 3(np.linspace)\n",
        "np.linspace(0,3,8).reshape(4,2)\n"
      ],
      "metadata": {
        "id": "CvzamAr6jxVx",
        "colab": {
          "base_uri": "https://localhost:8080/"
        },
        "outputId": "5cd1035b-0cd1-405b-db15-533f5c92e2e6"
      },
      "execution_count": null,
      "outputs": [
        {
          "output_type": "execute_result",
          "data": {
            "text/plain": [
              "array([[0.        , 0.42857143],\n",
              "       [0.85714286, 1.28571429],\n",
              "       [1.71428571, 2.14285714],\n",
              "       [2.57142857, 3.        ]])"
            ]
          },
          "metadata": {},
          "execution_count": 111
        }
      ]
    },
    {
      "cell_type": "markdown",
      "source": [
        "#Ex:\n",
        "\n",
        "Write a code to create a numpy 3x3 matrix with values ranging from 2 to 10. "
      ],
      "metadata": {
        "id": "Wt6kDFuYvkec"
      }
    },
    {
      "cell_type": "code",
      "source": [
        "np.arange(2,11).reshape(3,3)"
      ],
      "metadata": {
        "colab": {
          "base_uri": "https://localhost:8080/"
        },
        "id": "yxf_U-Up8Vmv",
        "outputId": "426e0d23-66c9-4411-afbe-bb7e71e67143"
      },
      "execution_count": null,
      "outputs": [
        {
          "output_type": "execute_result",
          "data": {
            "text/plain": [
              "array([[ 2,  3,  4],\n",
              "       [ 5,  6,  7],\n",
              "       [ 8,  9, 10]])"
            ]
          },
          "metadata": {},
          "execution_count": 112
        }
      ]
    },
    {
      "cell_type": "markdown",
      "source": [
        "## Copying matrix"
      ],
      "metadata": {
        "id": "YBCc9zBCguJ7"
      }
    },
    {
      "cell_type": "code",
      "source": [
        "a = np.array([1,2,3,4])\n",
        "\n",
        "#copy a in b\n",
        "b = a\n",
        "b[0] = 10\n"
      ],
      "metadata": {
        "id": "aJ-_KHCTfPuL"
      },
      "execution_count": null,
      "outputs": []
    },
    {
      "cell_type": "code",
      "source": [
        "b"
      ],
      "metadata": {
        "colab": {
          "base_uri": "https://localhost:8080/"
        },
        "id": "m-x5htIs1neD",
        "outputId": "babe3b03-0578-42e6-cf79-e377c3c35c1a"
      },
      "execution_count": null,
      "outputs": [
        {
          "output_type": "execute_result",
          "data": {
            "text/plain": [
              "array([10,  2,  3,  4])"
            ]
          },
          "metadata": {},
          "execution_count": 114
        }
      ]
    },
    {
      "cell_type": "code",
      "source": [
        "a"
      ],
      "metadata": {
        "colab": {
          "base_uri": "https://localhost:8080/"
        },
        "id": "5Jc1sLrt1ngv",
        "outputId": "98910090-7b82-4dda-ff4c-7c57807ed22e"
      },
      "execution_count": null,
      "outputs": [
        {
          "output_type": "execute_result",
          "data": {
            "text/plain": [
              "array([10,  2,  3,  4])"
            ]
          },
          "metadata": {},
          "execution_count": 115
        }
      ]
    },
    {
      "cell_type": "code",
      "source": [
        "a = np.array([1,2,3,4])\n",
        "b = a.copy()\n",
        "b[0] = 10\n",
        "b"
      ],
      "metadata": {
        "id": "nD9hwMOxg-VS",
        "colab": {
          "base_uri": "https://localhost:8080/"
        },
        "outputId": "293615fd-40e2-40eb-9d62-6d278748d059"
      },
      "execution_count": null,
      "outputs": [
        {
          "output_type": "execute_result",
          "data": {
            "text/plain": [
              "array([10,  2,  3,  4])"
            ]
          },
          "metadata": {},
          "execution_count": 117
        }
      ]
    },
    {
      "cell_type": "markdown",
      "source": [
        "## Math and numpy"
      ],
      "metadata": {
        "id": "DS-gmT8Ckl2I"
      }
    },
    {
      "cell_type": "code",
      "source": [
        "x = np.array([[1,2],[3,4]], dtype=np.float64)\n",
        "y = np.array([[5,6],[7,8]], dtype=np.float64)\n",
        "\n",
        "# Elementwise sum\n",
        "\n",
        "print(np.add(x,y))\n",
        "\n",
        "\n",
        "\n",
        "# Elementwise difference\n",
        "print(np.subtract(x,y))\n",
        "\n",
        "# Elementwise product\n",
        "\n",
        "print(np.multiply(x,y))\n",
        "print(np.divide(x,y))\n",
        "\n",
        "# Elementwise division\n"
      ],
      "metadata": {
        "id": "n-dlOA_XhCig",
        "colab": {
          "base_uri": "https://localhost:8080/"
        },
        "outputId": "6d35485f-5ec3-44a4-bcc0-b50da572f498"
      },
      "execution_count": null,
      "outputs": [
        {
          "output_type": "stream",
          "name": "stdout",
          "text": [
            "[[ 6.  8.]\n",
            " [10. 12.]]\n",
            "[[-4. -4.]\n",
            " [-4. -4.]]\n",
            "[[ 5. 12.]\n",
            " [21. 32.]]\n",
            "[[0.2        0.33333333]\n",
            " [0.42857143 0.5       ]]\n"
          ]
        }
      ]
    },
    {
      "cell_type": "code",
      "source": [
        "x = np.array([[1,2],[3,4]], dtype=np.float64)\n",
        "y=np.array([2,3])\n",
        "np.add(x,y)\n",
        "np.subtract(x,y)\n"
      ],
      "metadata": {
        "colab": {
          "base_uri": "https://localhost:8080/"
        },
        "id": "0lBjR3iDxdqU",
        "outputId": "797b17dd-bdc3-447b-fd5a-18a77cfb1001"
      },
      "execution_count": null,
      "outputs": [
        {
          "output_type": "execute_result",
          "data": {
            "text/plain": [
              "array([[-1., -1.],\n",
              "       [ 1.,  1.]])"
            ]
          },
          "metadata": {},
          "execution_count": 35
        }
      ]
    },
    {
      "cell_type": "markdown",
      "source": [
        "\\* is elementwise multiplication, not matrix multiplication. .dot function is used to compute inner products of vectors, to multiply a vector by a matrix, and to multiply matrices"
      ],
      "metadata": {
        "id": "So-pzC-DndaG"
      }
    },
    {
      "cell_type": "code",
      "source": [
        "x = np.array([[1,2],[3,4]])\n",
        "y = np.array([[5,6],[7,8]])\n",
        "\n",
        "v = np.array([9,10])\n",
        "w = np.array([11, 12])\n",
        "\n",
        "## vector product, v and w\n",
        "print(np.dot(v,w))\n",
        "\n",
        "# Matrix / vector product, x and v\n",
        "print(np.dot(x,v))\n",
        "\n",
        "# Matrix / matrix product, x and y\n",
        "print(np.dot(x,y))"
      ],
      "metadata": {
        "id": "wlVK2QCdnF4p",
        "colab": {
          "base_uri": "https://localhost:8080/"
        },
        "outputId": "8a05ca28-bc5e-4e98-f755-9ce181975c18"
      },
      "execution_count": null,
      "outputs": [
        {
          "output_type": "stream",
          "name": "stdout",
          "text": [
            "219\n",
            "[29 67]\n",
            "[[19 22]\n",
            " [43 50]]\n"
          ]
        }
      ]
    },
    {
      "cell_type": "code",
      "source": [
        "x = np.array([[1,2],[3,4]])\n",
        "print(np.sum(x,0))\n",
        " # Compute sum of all elements\n",
        "print(np.sum(x))\n",
        "  # Compute sum of each column\n",
        "print(np.sum(x,1))\n",
        "# Compute sum of each row"
      ],
      "metadata": {
        "id": "m-lARcJApyO_",
        "colab": {
          "base_uri": "https://localhost:8080/"
        },
        "outputId": "4643c27a-e22b-4b18-a954-1eb4be61dbc7"
      },
      "execution_count": null,
      "outputs": [
        {
          "output_type": "stream",
          "name": "stdout",
          "text": [
            "[4 6]\n",
            "10\n",
            "[3 7]\n"
          ]
        }
      ]
    },
    {
      "cell_type": "code",
      "source": [
        "x = np.array([[1,2],[3,4]])\n",
        "\n",
        "# Compute the mean of all elements\n",
        "np.mean(x)\n",
        "  # Compute mean of each column\n",
        "print(np.mean(x,0))\n",
        "\n",
        "print(np.mean(x,1))\n",
        " # Compute mean of each row"
      ],
      "metadata": {
        "id": "gOZYdtSj4RgZ",
        "colab": {
          "base_uri": "https://localhost:8080/"
        },
        "outputId": "014c9bd5-46ec-4424-ee5d-04c192910746"
      },
      "execution_count": null,
      "outputs": [
        {
          "output_type": "stream",
          "name": "stdout",
          "text": [
            "[2. 3.]\n",
            "[1.5 3.5]\n"
          ]
        }
      ]
    },
    {
      "cell_type": "code",
      "source": [
        "x = np.array([[1,2],[3,4]])\n",
        "\n",
        "# Compute std of all elements\n",
        "print(np.std(x))\n",
        "# Compute std of each column\n",
        "print(np.std(x,0))\n",
        "# Compute std of each row\n",
        "print(np.std(x,1))\n",
        "pass"
      ],
      "metadata": {
        "id": "ng7o_c2c4gNd",
        "colab": {
          "base_uri": "https://localhost:8080/"
        },
        "outputId": "adbd84b1-2cec-400c-8e61-2af16439ecee"
      },
      "execution_count": null,
      "outputs": [
        {
          "output_type": "stream",
          "name": "stdout",
          "text": [
            "1.118033988749895\n",
            "[1. 1.]\n",
            "[0.5 0.5]\n"
          ]
        }
      ]
    },
    {
      "cell_type": "code",
      "source": [
        "x = np.array([1,2,3,4]) # each value is considered as an angle\n",
        "#cos and sin of x"
      ],
      "metadata": {
        "id": "TbUVYqgl4qrd"
      },
      "execution_count": null,
      "outputs": []
    },
    {
      "cell_type": "markdown",
      "source": [
        "## Exercises:\n",
        "\n",
        "Calculate the sum of the diagonal elements of a NumPy array using np.trace() and np.diagonal"
      ],
      "metadata": {
        "id": "daF4yIBALjQO"
      }
    },
    {
      "cell_type": "code",
      "source": [
        "\n",
        "u = np.array([[1,2,3], [4,5,6], [7,8,9]])\n",
        "u\n",
        "np.sum(np.diagonal(u))"
      ],
      "metadata": {
        "colab": {
          "base_uri": "https://localhost:8080/"
        },
        "id": "7dg_cSUIOQ6-",
        "outputId": "01c58a9f-b8e1-4c8a-d29b-f86b59f0a111"
      },
      "execution_count": null,
      "outputs": [
        {
          "output_type": "execute_result",
          "data": {
            "text/plain": [
              "15"
            ]
          },
          "metadata": {},
          "execution_count": 139
        }
      ]
    },
    {
      "cell_type": "code",
      "source": [
        "np.trace(u)\n"
      ],
      "metadata": {
        "id": "32P1tPg9Odl1",
        "colab": {
          "base_uri": "https://localhost:8080/"
        },
        "outputId": "ce090d23-b709-4978-98a4-aee27752ca4a"
      },
      "execution_count": null,
      "outputs": [
        {
          "output_type": "execute_result",
          "data": {
            "text/plain": [
              "15"
            ]
          },
          "metadata": {},
          "execution_count": 140
        }
      ]
    },
    {
      "cell_type": "code",
      "source": [],
      "metadata": {
        "id": "RqYDONSLOgRR"
      },
      "execution_count": null,
      "outputs": []
    },
    {
      "cell_type": "markdown",
      "source": [
        "## Broadcasting\n",
        "\n",
        "Broadcasting is a powerful mechanism that allows numpy to work with arrays of different shapes when performing arithmetic operations.\n",
        "\n",
        "Two arrays can be broadcasted if they have the same size in the dimension, or if one of the arrays has size 1 in that dimension."
      ],
      "metadata": {
        "id": "0_OO79t5rZcH"
      }
    },
    {
      "cell_type": "code",
      "source": [
        "x = np.array([[1,2,3], [4,5,6], [7,8,9]])\n",
        "v = np.array([1, 0, 1])\n",
        "print(x.shape)\n",
        "print(v.shape)\n",
        "y = x * v  # Add v to each row of x using broadcasting\n",
        "print(y)\n",
        "print(\"==\"*10)\n",
        "w = np.array([[1], [0], [1]])\n",
        "print(w.shape)\n",
        "print(x+w)"
      ],
      "metadata": {
        "colab": {
          "base_uri": "https://localhost:8080/"
        },
        "id": "Z4xULIrprjB6",
        "outputId": "b1016dbc-8664-40ed-a221-75db6ad587cf"
      },
      "execution_count": null,
      "outputs": [
        {
          "output_type": "stream",
          "name": "stdout",
          "text": [
            "(3, 3)\n",
            "(3,)\n",
            "[[1 0 3]\n",
            " [4 0 6]\n",
            " [7 0 9]]\n",
            "====================\n",
            "(3, 1)\n",
            "[[ 2  3  4]\n",
            " [ 4  5  6]\n",
            " [ 8  9 10]]\n"
          ]
        }
      ]
    },
    {
      "cell_type": "code",
      "source": [
        "v = np.array([1,2,3]) \n",
        "w = np.array([4,5])   \n",
        "print(v.shape)\n",
        "print(w.shape) \n",
        "#we need to reshape v to be a column vector of shape (3, 1); we can then broadcast it against w \n",
        "y = v.reshape(3,1) * w\n",
        "print(y)\n",
        "print(y.shape)\n"
      ],
      "metadata": {
        "colab": {
          "base_uri": "https://localhost:8080/"
        },
        "id": "UbzhRfsNsr0F",
        "outputId": "7e5590d5-cf47-4ae0-a562-7874940a4efb"
      },
      "execution_count": null,
      "outputs": [
        {
          "output_type": "stream",
          "name": "stdout",
          "text": [
            "(3,)\n",
            "(2,)\n",
            "[[ 4  5]\n",
            " [ 8 10]\n",
            " [12 15]]\n",
            "(3, 2)\n"
          ]
        }
      ]
    },
    {
      "cell_type": "markdown",
      "source": [
        "## Numpy and linear algebra"
      ],
      "metadata": {
        "id": "2tK-C6WJheqB"
      }
    },
    {
      "cell_type": "code",
      "source": [
        "x = np.random.randint(0, 20, 10)\n",
        "x\n",
        "np.linalg.norm(x,np.inf)"
      ],
      "metadata": {
        "colab": {
          "base_uri": "https://localhost:8080/"
        },
        "id": "nnH0jDrgicHd",
        "outputId": "e415cbcb-f983-4df2-eef2-e092774d79d5"
      },
      "execution_count": null,
      "outputs": [
        {
          "output_type": "execute_result",
          "data": {
            "text/plain": [
              "19.0"
            ]
          },
          "metadata": {},
          "execution_count": 147
        }
      ]
    },
    {
      "cell_type": "code",
      "source": [],
      "metadata": {
        "id": "O3xEEQZGAELw"
      },
      "execution_count": null,
      "outputs": []
    },
    {
      "cell_type": "markdown",
      "source": [
        "### Norm:"
      ],
      "metadata": {
        "id": "L8dLQ_abrqhC"
      }
    },
    {
      "cell_type": "code",
      "source": [
        "#compute norm of x"
      ],
      "metadata": {
        "id": "qPoQxDZwio8d"
      },
      "execution_count": null,
      "outputs": []
    },
    {
      "cell_type": "code",
      "source": [
        "#compute norm 1 of x"
      ],
      "metadata": {
        "id": "Rtg0ZdrEqTkC"
      },
      "execution_count": null,
      "outputs": []
    },
    {
      "cell_type": "code",
      "source": [
        "#compute norm 2 of x"
      ],
      "metadata": {
        "id": "vi4Sdv9TpwCC"
      },
      "execution_count": null,
      "outputs": []
    },
    {
      "cell_type": "markdown",
      "source": [
        "### Eigen values and vectors"
      ],
      "metadata": {
        "id": "AcSzhojPrvH1"
      }
    },
    {
      "cell_type": "code",
      "source": [
        "\n",
        "x = np.random.randint(0, 20, (3,3))\n",
        "#compute the eigen values of x\n",
        "np.linalg.eigh(x)\n",
        "np.linalg.eigvals(x)\n",
        "np.linalg.eigh(x)"
      ],
      "metadata": {
        "id": "Urioeudui2WR",
        "colab": {
          "base_uri": "https://localhost:8080/"
        },
        "outputId": "bc39c8f0-44a9-42a5-f474-fa0e593b5acc"
      },
      "execution_count": null,
      "outputs": [
        {
          "output_type": "execute_result",
          "data": {
            "text/plain": [
              "(array([-9.62561934, 12.02122856, 31.60439077]),\n",
              " array([[ 0.48309012,  0.50439787,  0.7156862 ],\n",
              "        [ 0.17365313, -0.85635174,  0.48631912],\n",
              "        [-0.85817745,  0.11065481,  0.50128533]]))"
            ]
          },
          "metadata": {},
          "execution_count": 155
        }
      ]
    },
    {
      "cell_type": "markdown",
      "source": [
        "### determinant"
      ],
      "metadata": {
        "id": "UirBRTQmr9Dv"
      }
    },
    {
      "cell_type": "code",
      "source": [
        "#compute determinant of x\n"
      ],
      "metadata": {
        "id": "BolToU6Dkko3"
      },
      "execution_count": null,
      "outputs": []
    },
    {
      "cell_type": "markdown",
      "source": [
        "### Inverse matrix"
      ],
      "metadata": {
        "id": "I69lcXzjsBsm"
      }
    },
    {
      "cell_type": "code",
      "source": [
        "#compute the inverse matrix of x\n"
      ],
      "metadata": {
        "id": "gm4ktK0rkpBE"
      },
      "execution_count": null,
      "outputs": []
    },
    {
      "cell_type": "markdown",
      "source": [
        "## More in Numpy\n",
        "\n",
        "https://numpy.org/doc/stable/user/absolute_beginners.html\n",
        "\n",
        "https://realpython.com/numpy-tutorial  "
      ],
      "metadata": {
        "id": "K2TQXujHkim6"
      }
    },
    {
      "cell_type": "code",
      "source": [],
      "metadata": {
        "id": "OGT8xjiXP5UW"
      },
      "execution_count": null,
      "outputs": []
    }
  ]
}